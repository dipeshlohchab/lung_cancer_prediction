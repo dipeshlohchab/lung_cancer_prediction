{
 "cells": [
  {
   "cell_type": "code",
   "execution_count": 9,
   "id": "44f2093e-b0e7-4371-9e80-f19f59dd4857",
   "metadata": {},
   "outputs": [],
   "source": [
    "import numpy as np\n",
    "import pandas as pd\n",
    "import matplotlib.pyplot as plt\n",
    "import seaborn as sns\n",
    "from sklearn.model_selection import train_test_split\n",
    "from sklearn.preprocessing import MinMaxScaler\n",
    "from imblearn.over_sampling import SMOTE\n",
    "from sklearn.linear_model import LogisticRegression\n",
    "from sklearn.metrics import classification_report\n",
    "from sklearn.tree import DecisionTreeClassifier\n",
    "from sklearn.ensemble import RandomForestClassifier\n",
    "import xgboost as xgb\n",
    "from catboost import CatBoostClassifier\n",
    "from sklearn.ensemble import AdaBoostClassifier\n",
    "from sklearn.model_selection import GridSearchCV\n",
    "import pickle"
   ]
  },
  {
   "cell_type": "code",
   "execution_count": 2,
   "id": "1afb786d-0c5f-46e5-8347-6b89a3264bd4",
   "metadata": {},
   "outputs": [
    {
     "data": {
      "text/html": [
       "<div>\n",
       "<style scoped>\n",
       "    .dataframe tbody tr th:only-of-type {\n",
       "        vertical-align: middle;\n",
       "    }\n",
       "\n",
       "    .dataframe tbody tr th {\n",
       "        vertical-align: top;\n",
       "    }\n",
       "\n",
       "    .dataframe thead th {\n",
       "        text-align: right;\n",
       "    }\n",
       "</style>\n",
       "<table border=\"1\" class=\"dataframe\">\n",
       "  <thead>\n",
       "    <tr style=\"text-align: right;\">\n",
       "      <th></th>\n",
       "      <th>AGE</th>\n",
       "      <th>GENDER</th>\n",
       "      <th>SMOKING</th>\n",
       "      <th>FINGER_DISCOLORATION</th>\n",
       "      <th>MENTAL_STRESS</th>\n",
       "      <th>EXPOSURE_TO_POLLUTION</th>\n",
       "      <th>LONG_TERM_ILLNESS</th>\n",
       "      <th>ENERGY_LEVEL</th>\n",
       "      <th>IMMUNE_WEAKNESS</th>\n",
       "      <th>BREATHING_ISSUE</th>\n",
       "      <th>ALCOHOL_CONSUMPTION</th>\n",
       "      <th>THROAT_DISCOMFORT</th>\n",
       "      <th>OXYGEN_SATURATION</th>\n",
       "      <th>CHEST_TIGHTNESS</th>\n",
       "      <th>FAMILY_HISTORY</th>\n",
       "      <th>SMOKING_FAMILY_HISTORY</th>\n",
       "      <th>STRESS_IMMUNE</th>\n",
       "      <th>PULMONARY_DISEASE</th>\n",
       "    </tr>\n",
       "  </thead>\n",
       "  <tbody>\n",
       "    <tr>\n",
       "      <th>0</th>\n",
       "      <td>68</td>\n",
       "      <td>1</td>\n",
       "      <td>1</td>\n",
       "      <td>1</td>\n",
       "      <td>1</td>\n",
       "      <td>1</td>\n",
       "      <td>0</td>\n",
       "      <td>57.831178</td>\n",
       "      <td>0</td>\n",
       "      <td>0</td>\n",
       "      <td>1</td>\n",
       "      <td>1</td>\n",
       "      <td>95.977287</td>\n",
       "      <td>1</td>\n",
       "      <td>0</td>\n",
       "      <td>0</td>\n",
       "      <td>0</td>\n",
       "      <td>NO</td>\n",
       "    </tr>\n",
       "    <tr>\n",
       "      <th>1</th>\n",
       "      <td>81</td>\n",
       "      <td>1</td>\n",
       "      <td>1</td>\n",
       "      <td>0</td>\n",
       "      <td>0</td>\n",
       "      <td>1</td>\n",
       "      <td>1</td>\n",
       "      <td>47.694835</td>\n",
       "      <td>1</td>\n",
       "      <td>1</td>\n",
       "      <td>0</td>\n",
       "      <td>1</td>\n",
       "      <td>97.184483</td>\n",
       "      <td>0</td>\n",
       "      <td>0</td>\n",
       "      <td>0</td>\n",
       "      <td>0</td>\n",
       "      <td>YES</td>\n",
       "    </tr>\n",
       "    <tr>\n",
       "      <th>2</th>\n",
       "      <td>58</td>\n",
       "      <td>1</td>\n",
       "      <td>1</td>\n",
       "      <td>0</td>\n",
       "      <td>0</td>\n",
       "      <td>0</td>\n",
       "      <td>0</td>\n",
       "      <td>59.577435</td>\n",
       "      <td>0</td>\n",
       "      <td>1</td>\n",
       "      <td>1</td>\n",
       "      <td>0</td>\n",
       "      <td>94.974939</td>\n",
       "      <td>0</td>\n",
       "      <td>0</td>\n",
       "      <td>0</td>\n",
       "      <td>0</td>\n",
       "      <td>NO</td>\n",
       "    </tr>\n",
       "    <tr>\n",
       "      <th>3</th>\n",
       "      <td>44</td>\n",
       "      <td>0</td>\n",
       "      <td>1</td>\n",
       "      <td>0</td>\n",
       "      <td>1</td>\n",
       "      <td>1</td>\n",
       "      <td>0</td>\n",
       "      <td>59.785767</td>\n",
       "      <td>0</td>\n",
       "      <td>1</td>\n",
       "      <td>0</td>\n",
       "      <td>1</td>\n",
       "      <td>95.187900</td>\n",
       "      <td>0</td>\n",
       "      <td>0</td>\n",
       "      <td>0</td>\n",
       "      <td>0</td>\n",
       "      <td>YES</td>\n",
       "    </tr>\n",
       "    <tr>\n",
       "      <th>4</th>\n",
       "      <td>72</td>\n",
       "      <td>0</td>\n",
       "      <td>1</td>\n",
       "      <td>1</td>\n",
       "      <td>1</td>\n",
       "      <td>1</td>\n",
       "      <td>1</td>\n",
       "      <td>59.733941</td>\n",
       "      <td>0</td>\n",
       "      <td>1</td>\n",
       "      <td>0</td>\n",
       "      <td>1</td>\n",
       "      <td>93.503008</td>\n",
       "      <td>0</td>\n",
       "      <td>0</td>\n",
       "      <td>0</td>\n",
       "      <td>0</td>\n",
       "      <td>YES</td>\n",
       "    </tr>\n",
       "  </tbody>\n",
       "</table>\n",
       "</div>"
      ],
      "text/plain": [
       "   AGE  GENDER  SMOKING  FINGER_DISCOLORATION  MENTAL_STRESS  \\\n",
       "0   68       1        1                     1              1   \n",
       "1   81       1        1                     0              0   \n",
       "2   58       1        1                     0              0   \n",
       "3   44       0        1                     0              1   \n",
       "4   72       0        1                     1              1   \n",
       "\n",
       "   EXPOSURE_TO_POLLUTION  LONG_TERM_ILLNESS  ENERGY_LEVEL  IMMUNE_WEAKNESS  \\\n",
       "0                      1                  0     57.831178                0   \n",
       "1                      1                  1     47.694835                1   \n",
       "2                      0                  0     59.577435                0   \n",
       "3                      1                  0     59.785767                0   \n",
       "4                      1                  1     59.733941                0   \n",
       "\n",
       "   BREATHING_ISSUE  ALCOHOL_CONSUMPTION  THROAT_DISCOMFORT  OXYGEN_SATURATION  \\\n",
       "0                0                    1                  1          95.977287   \n",
       "1                1                    0                  1          97.184483   \n",
       "2                1                    1                  0          94.974939   \n",
       "3                1                    0                  1          95.187900   \n",
       "4                1                    0                  1          93.503008   \n",
       "\n",
       "   CHEST_TIGHTNESS  FAMILY_HISTORY  SMOKING_FAMILY_HISTORY  STRESS_IMMUNE  \\\n",
       "0                1               0                       0              0   \n",
       "1                0               0                       0              0   \n",
       "2                0               0                       0              0   \n",
       "3                0               0                       0              0   \n",
       "4                0               0                       0              0   \n",
       "\n",
       "  PULMONARY_DISEASE  \n",
       "0                NO  \n",
       "1               YES  \n",
       "2                NO  \n",
       "3               YES  \n",
       "4               YES  "
      ]
     },
     "execution_count": 2,
     "metadata": {},
     "output_type": "execute_result"
    }
   ],
   "source": [
    "df= pd.read_csv('Lung Cancer Dataset.csv')\n",
    "df.head()"
   ]
  },
  {
   "cell_type": "code",
   "execution_count": 3,
   "id": "b49db838-3baa-40d1-9263-9336d07a711a",
   "metadata": {},
   "outputs": [
    {
     "name": "stdout",
     "output_type": "stream",
     "text": [
      "<class 'pandas.core.frame.DataFrame'>\n",
      "RangeIndex: 5000 entries, 0 to 4999\n",
      "Data columns (total 18 columns):\n",
      " #   Column                  Non-Null Count  Dtype  \n",
      "---  ------                  --------------  -----  \n",
      " 0   AGE                     5000 non-null   int64  \n",
      " 1   GENDER                  5000 non-null   int64  \n",
      " 2   SMOKING                 5000 non-null   int64  \n",
      " 3   FINGER_DISCOLORATION    5000 non-null   int64  \n",
      " 4   MENTAL_STRESS           5000 non-null   int64  \n",
      " 5   EXPOSURE_TO_POLLUTION   5000 non-null   int64  \n",
      " 6   LONG_TERM_ILLNESS       5000 non-null   int64  \n",
      " 7   ENERGY_LEVEL            5000 non-null   float64\n",
      " 8   IMMUNE_WEAKNESS         5000 non-null   int64  \n",
      " 9   BREATHING_ISSUE         5000 non-null   int64  \n",
      " 10  ALCOHOL_CONSUMPTION     5000 non-null   int64  \n",
      " 11  THROAT_DISCOMFORT       5000 non-null   int64  \n",
      " 12  OXYGEN_SATURATION       5000 non-null   float64\n",
      " 13  CHEST_TIGHTNESS         5000 non-null   int64  \n",
      " 14  FAMILY_HISTORY          5000 non-null   int64  \n",
      " 15  SMOKING_FAMILY_HISTORY  5000 non-null   int64  \n",
      " 16  STRESS_IMMUNE           5000 non-null   int64  \n",
      " 17  PULMONARY_DISEASE       5000 non-null   object \n",
      "dtypes: float64(2), int64(15), object(1)\n",
      "memory usage: 703.3+ KB\n"
     ]
    }
   ],
   "source": [
    "df.info()"
   ]
  },
  {
   "cell_type": "code",
   "execution_count": 4,
   "id": "4cc0b866-368e-4426-8882-b1be95221de8",
   "metadata": {},
   "outputs": [],
   "source": [
    "df['PULMONARY_DISEASE']= df['PULMONARY_DISEASE'].map({'NO':0, 'YES':1})"
   ]
  },
  {
   "cell_type": "code",
   "execution_count": 5,
   "id": "11850a75-c805-4f39-b8b3-24bbe27b0e67",
   "metadata": {},
   "outputs": [],
   "source": [
    "X=df.drop(['PULMONARY_DISEASE'], axis=1)\n",
    "y=df.PULMONARY_DISEASE"
   ]
  },
  {
   "cell_type": "code",
   "execution_count": 6,
   "id": "a71ca8dc-2b0c-4cd3-8bed-e05ae0f0b8d0",
   "metadata": {},
   "outputs": [],
   "source": [
    "XTrain,XTest, yTrain , yTest= train_test_split(X, y, test_size= 0.3, random_state=42)"
   ]
  },
  {
   "cell_type": "code",
   "execution_count": 7,
   "id": "e1c834ce-9fb8-42e7-b9d9-2ef364edfe7d",
   "metadata": {},
   "outputs": [],
   "source": [
    "scaler= MinMaxScaler()\n",
    "XTrainScaled=scaler.fit_transform(XTrain)\n",
    "XTestScaled=scaler.transform(XTest)"
   ]
  },
  {
   "cell_type": "code",
   "execution_count": 8,
   "id": "6bc7a296-a197-4c37-b080-b88a0a17ed31",
   "metadata": {},
   "outputs": [
    {
     "name": "stderr",
     "output_type": "stream",
     "text": [
      "C:\\Users\\DIPESH LOHCHAB\\AppData\\Roaming\\Python\\Python312\\site-packages\\sklearn\\base.py:474: FutureWarning: `BaseEstimator._validate_data` is deprecated in 1.6 and will be removed in 1.7. Use `sklearn.utils.validation.validate_data` instead. This function becomes public and is part of the scikit-learn developer API.\n",
      "  warnings.warn(\n",
      "C:\\Users\\DIPESH LOHCHAB\\AppData\\Roaming\\Python\\Python312\\site-packages\\sklearn\\utils\\_tags.py:354: FutureWarning: The SMOTE or classes from which it inherits use `_get_tags` and `_more_tags`. Please define the `__sklearn_tags__` method, or inherit from `sklearn.base.BaseEstimator` and/or other appropriate mixins such as `sklearn.base.TransformerMixin`, `sklearn.base.ClassifierMixin`, `sklearn.base.RegressorMixin`, and `sklearn.base.OutlierMixin`. From scikit-learn 1.7, not defining `__sklearn_tags__` will raise an error.\n",
      "  warnings.warn(\n"
     ]
    }
   ],
   "source": [
    "smote = SMOTE(random_state=42)\n",
    "X_train_resampled, y_train_resampled = smote.fit_resample(XTrainScaled, yTrain)"
   ]
  },
  {
   "cell_type": "markdown",
   "id": "ac7eaeb6-a1cf-4578-ba58-a8da08e3f397",
   "metadata": {},
   "source": [
    "# Logistic Regression"
   ]
  },
  {
   "cell_type": "code",
   "execution_count": 14,
   "id": "814da6d4-f1c6-4b77-8946-6fc5cf2c83ab",
   "metadata": {
    "scrolled": true
   },
   "outputs": [
    {
     "name": "stdout",
     "output_type": "stream",
     "text": [
      "Fitting 5 folds for each of 216 candidates, totalling 1080 fits\n",
      "Best parameters: {'C': 1, 'max_iter': 100, 'penalty': 'l1', 'solver': 'saga'}\n",
      "Best score: 0.8935417908213557\n"
     ]
    },
    {
     "name": "stderr",
     "output_type": "stream",
     "text": [
      "C:\\Users\\DIPESH LOHCHAB\\AppData\\Roaming\\Python\\Python312\\site-packages\\sklearn\\model_selection\\_validation.py:528: FitFailedWarning: \n",
      "450 fits failed out of a total of 1080.\n",
      "The score on these train-test partitions for these parameters will be set to nan.\n",
      "If these failures are not expected, you can try to debug them by setting error_score='raise'.\n",
      "\n",
      "Below are more details about the failures:\n",
      "--------------------------------------------------------------------------------\n",
      "90 fits failed with the following error:\n",
      "Traceback (most recent call last):\n",
      "  File \"C:\\Users\\DIPESH LOHCHAB\\AppData\\Roaming\\Python\\Python312\\site-packages\\sklearn\\model_selection\\_validation.py\", line 866, in _fit_and_score\n",
      "    estimator.fit(X_train, y_train, **fit_params)\n",
      "  File \"C:\\Users\\DIPESH LOHCHAB\\AppData\\Roaming\\Python\\Python312\\site-packages\\sklearn\\base.py\", line 1389, in wrapper\n",
      "    return fit_method(estimator, *args, **kwargs)\n",
      "           ^^^^^^^^^^^^^^^^^^^^^^^^^^^^^^^^^^^^^^\n",
      "  File \"C:\\Users\\DIPESH LOHCHAB\\AppData\\Roaming\\Python\\Python312\\site-packages\\sklearn\\linear_model\\_logistic.py\", line 1193, in fit\n",
      "    solver = _check_solver(self.solver, self.penalty, self.dual)\n",
      "             ^^^^^^^^^^^^^^^^^^^^^^^^^^^^^^^^^^^^^^^^^^^^^^^^^^^\n",
      "  File \"C:\\Users\\DIPESH LOHCHAB\\AppData\\Roaming\\Python\\Python312\\site-packages\\sklearn\\linear_model\\_logistic.py\", line 63, in _check_solver\n",
      "    raise ValueError(\n",
      "ValueError: Solver lbfgs supports only 'l2' or None penalties, got l1 penalty.\n",
      "\n",
      "--------------------------------------------------------------------------------\n",
      "90 fits failed with the following error:\n",
      "Traceback (most recent call last):\n",
      "  File \"C:\\Users\\DIPESH LOHCHAB\\AppData\\Roaming\\Python\\Python312\\site-packages\\sklearn\\model_selection\\_validation.py\", line 866, in _fit_and_score\n",
      "    estimator.fit(X_train, y_train, **fit_params)\n",
      "  File \"C:\\Users\\DIPESH LOHCHAB\\AppData\\Roaming\\Python\\Python312\\site-packages\\sklearn\\base.py\", line 1389, in wrapper\n",
      "    return fit_method(estimator, *args, **kwargs)\n",
      "           ^^^^^^^^^^^^^^^^^^^^^^^^^^^^^^^^^^^^^^\n",
      "  File \"C:\\Users\\DIPESH LOHCHAB\\AppData\\Roaming\\Python\\Python312\\site-packages\\sklearn\\linear_model\\_logistic.py\", line 1193, in fit\n",
      "    solver = _check_solver(self.solver, self.penalty, self.dual)\n",
      "             ^^^^^^^^^^^^^^^^^^^^^^^^^^^^^^^^^^^^^^^^^^^^^^^^^^^\n",
      "  File \"C:\\Users\\DIPESH LOHCHAB\\AppData\\Roaming\\Python\\Python312\\site-packages\\sklearn\\linear_model\\_logistic.py\", line 63, in _check_solver\n",
      "    raise ValueError(\n",
      "ValueError: Solver lbfgs supports only 'l2' or None penalties, got elasticnet penalty.\n",
      "\n",
      "--------------------------------------------------------------------------------\n",
      "90 fits failed with the following error:\n",
      "Traceback (most recent call last):\n",
      "  File \"C:\\Users\\DIPESH LOHCHAB\\AppData\\Roaming\\Python\\Python312\\site-packages\\sklearn\\model_selection\\_validation.py\", line 866, in _fit_and_score\n",
      "    estimator.fit(X_train, y_train, **fit_params)\n",
      "  File \"C:\\Users\\DIPESH LOHCHAB\\AppData\\Roaming\\Python\\Python312\\site-packages\\sklearn\\base.py\", line 1389, in wrapper\n",
      "    return fit_method(estimator, *args, **kwargs)\n",
      "           ^^^^^^^^^^^^^^^^^^^^^^^^^^^^^^^^^^^^^^\n",
      "  File \"C:\\Users\\DIPESH LOHCHAB\\AppData\\Roaming\\Python\\Python312\\site-packages\\sklearn\\linear_model\\_logistic.py\", line 1193, in fit\n",
      "    solver = _check_solver(self.solver, self.penalty, self.dual)\n",
      "             ^^^^^^^^^^^^^^^^^^^^^^^^^^^^^^^^^^^^^^^^^^^^^^^^^^^\n",
      "  File \"C:\\Users\\DIPESH LOHCHAB\\AppData\\Roaming\\Python\\Python312\\site-packages\\sklearn\\linear_model\\_logistic.py\", line 71, in _check_solver\n",
      "    raise ValueError(\n",
      "ValueError: Only 'saga' solver supports elasticnet penalty, got solver=liblinear.\n",
      "\n",
      "--------------------------------------------------------------------------------\n",
      "90 fits failed with the following error:\n",
      "Traceback (most recent call last):\n",
      "  File \"C:\\Users\\DIPESH LOHCHAB\\AppData\\Roaming\\Python\\Python312\\site-packages\\sklearn\\model_selection\\_validation.py\", line 866, in _fit_and_score\n",
      "    estimator.fit(X_train, y_train, **fit_params)\n",
      "  File \"C:\\Users\\DIPESH LOHCHAB\\AppData\\Roaming\\Python\\Python312\\site-packages\\sklearn\\base.py\", line 1389, in wrapper\n",
      "    return fit_method(estimator, *args, **kwargs)\n",
      "           ^^^^^^^^^^^^^^^^^^^^^^^^^^^^^^^^^^^^^^\n",
      "  File \"C:\\Users\\DIPESH LOHCHAB\\AppData\\Roaming\\Python\\Python312\\site-packages\\sklearn\\linear_model\\_logistic.py\", line 1203, in fit\n",
      "    raise ValueError(\"l1_ratio must be specified when penalty is elasticnet.\")\n",
      "ValueError: l1_ratio must be specified when penalty is elasticnet.\n",
      "\n",
      "--------------------------------------------------------------------------------\n",
      "90 fits failed with the following error:\n",
      "Traceback (most recent call last):\n",
      "  File \"C:\\Users\\DIPESH LOHCHAB\\AppData\\Roaming\\Python\\Python312\\site-packages\\sklearn\\model_selection\\_validation.py\", line 866, in _fit_and_score\n",
      "    estimator.fit(X_train, y_train, **fit_params)\n",
      "  File \"C:\\Users\\DIPESH LOHCHAB\\AppData\\Roaming\\Python\\Python312\\site-packages\\sklearn\\base.py\", line 1389, in wrapper\n",
      "    return fit_method(estimator, *args, **kwargs)\n",
      "           ^^^^^^^^^^^^^^^^^^^^^^^^^^^^^^^^^^^^^^\n",
      "  File \"C:\\Users\\DIPESH LOHCHAB\\AppData\\Roaming\\Python\\Python312\\site-packages\\sklearn\\linear_model\\_logistic.py\", line 1193, in fit\n",
      "    solver = _check_solver(self.solver, self.penalty, self.dual)\n",
      "             ^^^^^^^^^^^^^^^^^^^^^^^^^^^^^^^^^^^^^^^^^^^^^^^^^^^\n",
      "  File \"C:\\Users\\DIPESH LOHCHAB\\AppData\\Roaming\\Python\\Python312\\site-packages\\sklearn\\linear_model\\_logistic.py\", line 76, in _check_solver\n",
      "    raise ValueError(\"penalty=None is not supported for the liblinear solver\")\n",
      "ValueError: penalty=None is not supported for the liblinear solver\n",
      "\n",
      "  warnings.warn(some_fits_failed_message, FitFailedWarning)\n",
      "C:\\Users\\DIPESH LOHCHAB\\AppData\\Roaming\\Python\\Python312\\site-packages\\sklearn\\model_selection\\_search.py:1107: UserWarning: One or more of the test scores are non-finite: [       nan 0.5        0.5        0.83864362 0.6986748  0.83864362\n",
      "        nan        nan        nan 0.89187852        nan 0.89164099\n",
      "        nan 0.5        0.5        0.83864362 0.6986748  0.83864362\n",
      "        nan        nan        nan 0.89187852        nan 0.89164099\n",
      "        nan 0.5        0.49976219 0.83864362 0.6986748  0.83864362\n",
      "        nan        nan        nan 0.89187852        nan 0.89164099\n",
      "        nan 0.72339258 0.84791434 0.85504306 0.81060693 0.85504306\n",
      "        nan        nan        nan 0.89187852        nan 0.89164099\n",
      "        nan 0.72339258 0.84791434 0.85504306 0.81060693 0.85504306\n",
      "        nan        nan        nan 0.89187852        nan 0.89164099\n",
      "        nan 0.72339258 0.84791434 0.85504306 0.81060693 0.85504306\n",
      "        nan        nan        nan 0.89187852        nan 0.89164099\n",
      "        nan 0.87928295 0.88498649 0.87856951 0.85932226 0.87856951\n",
      "        nan        nan        nan 0.89187852        nan 0.89164099\n",
      "        nan 0.87928295 0.88498649 0.87856951 0.85932226 0.87856951\n",
      "        nan        nan        nan 0.89187852        nan 0.89164099\n",
      "        nan 0.87928295 0.88498649 0.87856951 0.85932226 0.87856951\n",
      "        nan        nan        nan 0.89187852        nan 0.89164099\n",
      "        nan 0.89282892 0.89354179 0.89116536 0.88379884 0.89140261\n",
      "        nan        nan        nan 0.89187852        nan 0.89164099\n",
      "        nan 0.89282892 0.89354179 0.89116536 0.88379884 0.89140261\n",
      "        nan        nan        nan 0.89187852        nan 0.89164099\n",
      "        nan 0.89282892 0.89354179 0.89116536 0.88379884 0.89140261\n",
      "        nan        nan        nan 0.89187852        nan 0.89164099\n",
      "        nan 0.89187852 0.89187852 0.89235358 0.89211605 0.89211605\n",
      "        nan        nan        nan 0.89187852        nan 0.89164099\n",
      "        nan 0.89187852 0.89187852 0.89235358 0.89211605 0.89211605\n",
      "        nan        nan        nan 0.89187852        nan 0.89164099\n",
      "        nan 0.89187852 0.89187852 0.89235358 0.89211605 0.89211605\n",
      "        nan        nan        nan 0.89187852        nan 0.89164099\n",
      "        nan 0.89187852 0.89187852 0.89211605 0.89187852 0.89187852\n",
      "        nan        nan        nan 0.89187852        nan 0.89164099\n",
      "        nan 0.89187852 0.89187852 0.89211605 0.89187852 0.89187852\n",
      "        nan        nan        nan 0.89187852        nan 0.89164099\n",
      "        nan 0.89187852 0.89187852 0.89211605 0.89187852 0.89187852\n",
      "        nan        nan        nan 0.89187852        nan 0.89164099]\n",
      "  warnings.warn(\n"
     ]
    }
   ],
   "source": [
    "param_grid_lr = {\n",
    "    'penalty': ['l1', 'l2', 'elasticnet', None],  \n",
    "    'C': [0.001, 0.01, 0.1, 1, 10, 100],  \n",
    "    'solver': ['lbfgs', 'liblinear', 'saga'],  \n",
    "    'max_iter': [100, 200, 500]\n",
    "}\n",
    "\n",
    "lr= LogisticRegression()\n",
    "grid_search_lr = GridSearchCV(lr, param_grid_lr, cv=5, scoring='accuracy', n_jobs=-1, verbose=2)\n",
    "grid_search_lr.fit(X_train_resampled, y_train_resampled)\n",
    "\n",
    "print(\"Best parameters:\", grid_search_lr.best_params_)\n",
    "print(\"Best score:\", grid_search_lr.best_score_)"
   ]
  },
  {
   "cell_type": "code",
   "execution_count": 15,
   "id": "af55aa68-8a50-4d3c-b60e-86601fe3ed3a",
   "metadata": {},
   "outputs": [
    {
     "name": "stdout",
     "output_type": "stream",
     "text": [
      "              precision    recall  f1-score   support\n",
      "\n",
      "           0       0.93      0.86      0.89       859\n",
      "           1       0.83      0.91      0.87       641\n",
      "\n",
      "    accuracy                           0.88      1500\n",
      "   macro avg       0.88      0.88      0.88      1500\n",
      "weighted avg       0.89      0.88      0.88      1500\n",
      "\n"
     ]
    }
   ],
   "source": [
    "lr= LogisticRegression(C=1, max_iter= 100, penalty='l1', solver= 'saga')\n",
    "lr.fit(X_train_resampled, y_train_resampled)\n",
    "lr_pred= lr.predict(XTestScaled)\n",
    "print(classification_report(yTest, lr_pred))"
   ]
  },
  {
   "cell_type": "markdown",
   "id": "0a188313-24fd-4e64-8550-98c14000a79e",
   "metadata": {},
   "source": [
    "# Decision Tree"
   ]
  },
  {
   "cell_type": "code",
   "execution_count": 17,
   "id": "7ad95145-4ed6-4869-b0b1-0877529a3c26",
   "metadata": {},
   "outputs": [
    {
     "name": "stdout",
     "output_type": "stream",
     "text": [
      "Fitting 5 folds for each of 405 candidates, totalling 2025 fits\n",
      "Best parameters: {'criterion': 'gini', 'max_depth': 10, 'max_features': None, 'min_samples_leaf': 2, 'min_samples_split': 10}\n",
      "Best score: 0.8935474395654985\n"
     ]
    }
   ],
   "source": [
    "param_grid_dt = {\n",
    "    'criterion': ['gini', 'entropy', 'log_loss'],  \n",
    "    'max_depth': [None, 5, 10, 20, 50],  \n",
    "    'min_samples_split': [2, 5, 10],  \n",
    "    'min_samples_leaf': [1, 2, 4],  \n",
    "    'max_features': ['sqrt', 'log2', None]\n",
    "}\n",
    "\n",
    "dt= DecisionTreeClassifier()\n",
    "grid_search_dt = GridSearchCV(dt, param_grid_dt, cv=5, scoring='accuracy', n_jobs=-1, verbose=2)\n",
    "grid_search_dt.fit(X_train_resampled, y_train_resampled)\n",
    "\n",
    "print(\"Best parameters:\", grid_search_dt.best_params_)\n",
    "print(\"Best score:\", grid_search_dt.best_score_)"
   ]
  },
  {
   "cell_type": "code",
   "execution_count": 19,
   "id": "7443f21e-c5d9-41ce-bc9b-cb9718bfac16",
   "metadata": {},
   "outputs": [
    {
     "name": "stdout",
     "output_type": "stream",
     "text": [
      "              precision    recall  f1-score   support\n",
      "\n",
      "           0       0.90      0.89      0.89       859\n",
      "           1       0.85      0.87      0.86       641\n",
      "\n",
      "    accuracy                           0.88      1500\n",
      "   macro avg       0.88      0.88      0.88      1500\n",
      "weighted avg       0.88      0.88      0.88      1500\n",
      "\n"
     ]
    }
   ],
   "source": [
    "dt= DecisionTreeClassifier(criterion='gini', max_depth=10, max_features=None, min_samples_leaf=2, min_samples_split=10)\n",
    "dt.fit(X_train_resampled, y_train_resampled)\n",
    "dt_pred= dt.predict(XTestScaled)\n",
    "print(classification_report(yTest, dt_pred))\n"
   ]
  },
  {
   "cell_type": "markdown",
   "id": "7ccae997-ba4a-48cd-a81a-1ee2a63783db",
   "metadata": {},
   "source": [
    "# Random forest"
   ]
  },
  {
   "cell_type": "code",
   "execution_count": 20,
   "id": "744a6c99-f7dc-4987-8e36-9db1e06df942",
   "metadata": {},
   "outputs": [
    {
     "name": "stdout",
     "output_type": "stream",
     "text": [
      "Fitting 5 folds for each of 1728 candidates, totalling 8640 fits\n",
      "Best parameters: {'bootstrap': False, 'criterion': 'entropy', 'max_depth': 20, 'max_features': 'log2', 'min_samples_leaf': 1, 'min_samples_split': 2, 'n_estimators': 500}\n",
      "Best score: 0.9251555522918367\n"
     ]
    }
   ],
   "source": [
    "param_grid_rf = {\n",
    "    'n_estimators': [50, 100, 200, 500],  \n",
    "    'criterion': ['gini', 'entropy'],  \n",
    "    'max_depth': [None, 10, 20, 50],  \n",
    "    'min_samples_split': [2, 5, 10],  \n",
    "    'min_samples_leaf': [1, 2, 4],  \n",
    "    'max_features': ['sqrt', 'log2', None],  \n",
    "    'bootstrap': [True, False]\n",
    "}\n",
    "rf= RandomForestClassifier()\n",
    "grid_search_rf = GridSearchCV(rf, param_grid_rf, cv=5, scoring='accuracy', n_jobs=-1, verbose=2)\n",
    "grid_search_rf.fit(X_train_resampled, y_train_resampled)\n",
    "\n",
    "print(\"Best parameters:\", grid_search_rf.best_params_)\n",
    "print(\"Best score:\", grid_search_rf.best_score_)"
   ]
  },
  {
   "cell_type": "code",
   "execution_count": 22,
   "id": "e48ded25-c529-46da-9135-216f1d93095f",
   "metadata": {},
   "outputs": [
    {
     "name": "stdout",
     "output_type": "stream",
     "text": [
      "              precision    recall  f1-score   support\n",
      "\n",
      "           0       0.91      0.93      0.92       859\n",
      "           1       0.90      0.88      0.89       641\n",
      "\n",
      "    accuracy                           0.91      1500\n",
      "   macro avg       0.91      0.90      0.90      1500\n",
      "weighted avg       0.91      0.91      0.91      1500\n",
      "\n"
     ]
    }
   ],
   "source": [
    "rf= RandomForestClassifier(bootstrap=False, criterion='entropy', max_depth=20,\n",
    "                           max_features='log2', min_samples_leaf=1, min_samples_split=2, n_estimators=500)\n",
    "rf.fit(X_train_resampled, y_train_resampled)\n",
    "rf_pred= rf.predict(XTestScaled)\n",
    "print(classification_report(yTest, rf_pred))"
   ]
  },
  {
   "cell_type": "code",
   "execution_count": 23,
   "id": "86cd8bdc-f99f-420d-861e-e3143223e5fe",
   "metadata": {},
   "outputs": [
    {
     "name": "stderr",
     "output_type": "stream",
     "text": [
      "C:\\Users\\DIPESH LOHCHAB\\AppData\\Roaming\\Python\\Python312\\site-packages\\xgboost\\core.py:158: UserWarning: [13:30:26] WARNING: C:\\buildkite-agent\\builds\\buildkite-windows-cpu-autoscaling-group-i-08cbc0333d8d4aae1-1\\xgboost\\xgboost-ci-windows\\src\\learner.cc:740: \n",
      "Parameters: { \"use_label_encoder\" } are not used.\n",
      "\n",
      "  warnings.warn(smsg, UserWarning)\n"
     ]
    },
    {
     "name": "stdout",
     "output_type": "stream",
     "text": [
      "              precision    recall  f1-score   support\n",
      "\n",
      "           0       0.90      0.91      0.90       859\n",
      "           1       0.88      0.87      0.87       641\n",
      "\n",
      "    accuracy                           0.89      1500\n",
      "   macro avg       0.89      0.89      0.89      1500\n",
      "weighted avg       0.89      0.89      0.89      1500\n",
      "\n"
     ]
    }
   ],
   "source": [
    "xgb_classifier = xgb.XGBClassifier(use_label_encoder=False, eval_metric='logloss')\n",
    "xgb_classifier.fit(X_train_resampled, y_train_resampled)\n",
    "xgb_pred = xgb_classifier.predict(XTestScaled)\n",
    "print(classification_report(yTest, xgb_pred))"
   ]
  },
  {
   "cell_type": "code",
   "execution_count": 24,
   "id": "2806675a-2438-471e-8d9a-69930ab00868",
   "metadata": {},
   "outputs": [
    {
     "name": "stdout",
     "output_type": "stream",
     "text": [
      "0:\tlearn: 0.6823663\ttotal: 206ms\tremaining: 3m 25s\n",
      "100:\tlearn: 0.2728336\ttotal: 3.22s\tremaining: 28.6s\n",
      "200:\tlearn: 0.1980255\ttotal: 6.27s\tremaining: 24.9s\n",
      "300:\tlearn: 0.1615456\ttotal: 9.32s\tremaining: 21.7s\n",
      "400:\tlearn: 0.1337232\ttotal: 12.4s\tremaining: 18.5s\n",
      "500:\tlearn: 0.1126284\ttotal: 15.4s\tremaining: 15.4s\n",
      "600:\tlearn: 0.0971844\ttotal: 18.4s\tremaining: 12.2s\n",
      "700:\tlearn: 0.0838729\ttotal: 21.4s\tremaining: 9.13s\n",
      "800:\tlearn: 0.0734264\ttotal: 24.3s\tremaining: 6.05s\n",
      "900:\tlearn: 0.0655711\ttotal: 27.3s\tremaining: 3s\n",
      "999:\tlearn: 0.0592735\ttotal: 30.3s\tremaining: 0us\n",
      "              precision    recall  f1-score   support\n",
      "\n",
      "           0       0.91      0.93      0.92       859\n",
      "           1       0.90      0.88      0.89       641\n",
      "\n",
      "    accuracy                           0.91      1500\n",
      "   macro avg       0.90      0.90      0.90      1500\n",
      "weighted avg       0.91      0.91      0.91      1500\n",
      "\n"
     ]
    }
   ],
   "source": [
    "catboost_classifier = CatBoostClassifier(iterations=1000, learning_rate=0.01, depth=10, verbose=100)\n",
    "catboost_classifier.fit(X_train_resampled, y_train_resampled)\n",
    "cat_pred = catboost_classifier.predict(XTestScaled)\n",
    "print(classification_report(yTest, cat_pred))"
   ]
  },
  {
   "cell_type": "code",
   "execution_count": 25,
   "id": "8302ac70-c687-4f87-8cd9-1aaed50e2661",
   "metadata": {},
   "outputs": [],
   "source": [
    "import pickle\n",
    "with open('model.pkl', 'wb') as file:\n",
    "    pickle.dump(rf, file)"
   ]
  },
  {
   "cell_type": "code",
   "execution_count": 26,
   "id": "3a09865f-b88a-477b-923e-99b45ee3de8b",
   "metadata": {},
   "outputs": [
    {
     "data": {
      "text/plain": [
       "'1.6.0'"
      ]
     },
     "execution_count": 26,
     "metadata": {},
     "output_type": "execute_result"
    }
   ],
   "source": [
    "import sklearn\n",
    "sklearn.__version__"
   ]
  },
  {
   "cell_type": "code",
   "execution_count": null,
   "id": "72643ee7-1fd9-41d0-84d3-7542d514bf62",
   "metadata": {},
   "outputs": [],
   "source": []
  }
 ],
 "metadata": {
  "kernelspec": {
   "display_name": "Python 3 (ipykernel)",
   "language": "python",
   "name": "python3"
  },
  "language_info": {
   "codemirror_mode": {
    "name": "ipython",
    "version": 3
   },
   "file_extension": ".py",
   "mimetype": "text/x-python",
   "name": "python",
   "nbconvert_exporter": "python",
   "pygments_lexer": "ipython3",
   "version": "3.12.7"
  }
 },
 "nbformat": 4,
 "nbformat_minor": 5
}
